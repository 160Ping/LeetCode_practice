{
 "cells": [
  {
   "cell_type": "code",
   "execution_count": 29,
   "id": "ae4aee04",
   "metadata": {},
   "outputs": [
    {
     "name": "stdout",
     "output_type": "stream",
     "text": [
      "4\n",
      "[1, 2]\n"
     ]
    }
   ],
   "source": [
    "nums = [2, 5, 5, 1]\n",
    "target = 10\n",
    "sum = 0\n",
    "ans = []\n",
    "print(len(nums))\n",
    "\n",
    "for i in range(0, len(nums)):\n",
    "    for j in range(1,len(nums)):\n",
    "        sum = nums[i] + nums[j]\n",
    "        if ans == []:\n",
    "            if sum == target:\n",
    "                if i != j:\n",
    "                    ans.append(i)\n",
    "                    ans.append(j)\n",
    "                    print(ans)\n"
   ]
  },
  {
   "cell_type": "code",
   "execution_count": null,
   "id": "5daea583",
   "metadata": {},
   "outputs": [],
   "source": []
  }
 ],
 "metadata": {
  "kernelspec": {
   "display_name": "Python 3 (ipykernel)",
   "language": "python",
   "name": "python3"
  },
  "language_info": {
   "codemirror_mode": {
    "name": "ipython",
    "version": 3
   },
   "file_extension": ".py",
   "mimetype": "text/x-python",
   "name": "python",
   "nbconvert_exporter": "python",
   "pygments_lexer": "ipython3",
   "version": "3.9.7"
  }
 },
 "nbformat": 4,
 "nbformat_minor": 5
}
